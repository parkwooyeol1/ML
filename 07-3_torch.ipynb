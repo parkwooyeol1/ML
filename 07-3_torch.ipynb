{
 "cells": [
  {
   "cell_type": "code",
   "execution_count": 1,
   "id": "e42cce53",
   "metadata": {},
   "outputs": [],
   "source": [
    "# pytorch로 신경망 모델 훈련하기\n",
    "\n",
    "# 데이터 준비\n",
    "from torchvision.datasets import FashionMNIST\n",
    "\n",
    "fm_train = FashionMNIST(root='.', train=True, download= True)\n",
    "fm_test = FashionMNIST(root='.', train= False, download= True)\n",
    "\n",
    "train_input = fm_train.data\n",
    "train_target = fm_train.targets\n",
    "train_scaled = train_input / 255.0\n",
    "\n",
    "from sklearn.model_selection import train_test_split\n",
    "\n",
    "train_scaled, val_scaled, train_target, val_target = train_test_split(train_scaled, train_target, test_size=0.2, random_state=42)"
   ]
  },
  {
   "cell_type": "code",
   "execution_count": null,
   "id": "9efb4651",
   "metadata": {},
   "outputs": [
    {
     "data": {
      "text/plain": [
       "Sequential(\n",
       "  (0): Flatten(start_dim=1, end_dim=-1)\n",
       "  (1): Linear(in_features=784, out_features=100, bias=True)\n",
       "  (2): ReLU()\n",
       "  (3): Dropout(p=0.3, inplace=False)\n",
       "  (4): Linear(in_features=100, out_features=10, bias=True)\n",
       ")"
      ]
     },
     "execution_count": 2,
     "metadata": {},
     "output_type": "execute_result"
    }
   ],
   "source": [
    "# 밀집층 사이에 드롭아웃 추가\n",
    "import torch.nn as nn\n",
    "\n",
    "model = nn.Sequential(\n",
    "    nn.Flatten(),\n",
    "    nn.Linear(784,100),\n",
    "    nn.ReLU(),\n",
    "    nn.Dropout(0.3),\n",
    "    nn.Linear(100,10)\n",
    ")\n",
    "# GPU에 적재\n",
    "import torch\n",
    "\n",
    "device = torch.device(\"cuda\" if torch.cuda.is_available() else \"cpu\")\n",
    "model.to(device)"
   ]
  },
  {
   "cell_type": "code",
   "execution_count": 3,
   "id": "5229955e",
   "metadata": {},
   "outputs": [],
   "source": [
    "# 손실 함수와 옵티마이저 준비\n",
    "import torch.optim as optim\n",
    "\n",
    "criterion = nn.CrossEntropyLoss()\n",
    "optimizer = optim.Adam(model.parameters())"
   ]
  },
  {
   "cell_type": "code",
   "execution_count": null,
   "id": "b1f11fc4",
   "metadata": {},
   "outputs": [],
   "source": [
    "# 필요한 변수 준비\n",
    "train_hist = [] # 훈련손실 기록\n",
    "val_hist = []   # 검증손실 기록\n",
    "patience = 2\n",
    "best_loss = -1 # 최상손실 기록\n",
    "early_stopping_counter = 0"
   ]
  },
  {
   "cell_type": "code",
   "execution_count": 5,
   "id": "a162fd0c",
   "metadata": {},
   "outputs": [
    {
     "name": "stdout",
     "output_type": "stream",
     "text": [
      "에포크:1, 훈련 손실:0.6081, 검증 손실:0.4442\n",
      "에포크:2, 훈련 손실:0.4435, 검증 손실:0.3924\n",
      "에포크:3, 훈련 손실:0.4063, 검증 손실:0.3739\n",
      "에포크:4, 훈련 손실:0.3837, 검증 손실:0.3578\n",
      "에포크:5, 훈련 손실:0.3705, 검증 손실:0.3489\n",
      "에포크:6, 훈련 손실:0.3578, 검증 손실:0.3481\n",
      "에포크:7, 훈련 손실:0.3481, 검증 손실:0.3314\n",
      "에포크:8, 훈련 손실:0.3381, 검증 손실:0.3411\n",
      "에포크:9, 훈련 손실:0.3286, 검증 손실:0.3371\n",
      "9번쨰 에포크에서 조기 종료되었습니다.\n"
     ]
    }
   ],
   "source": [
    "epochs = 20\n",
    "batches = int(len(train_scaled)/32)\n",
    "for epoch in range(epochs):\n",
    "    model.train() \n",
    "    train_loss = 0 # 에포크 손실 초기화\n",
    "    for i in range(batches):\n",
    "        inputs = train_scaled[i*32:(i+1)*32].to(device) # 배치입력과 타깃 준비\n",
    "        targets = train_target[i*32:(i+1)*32].to(device)\n",
    "        optimizer.zero_grad() # 옵티마이저 그레디언트 초기화\n",
    "        outputs = model(inputs) # 모델에 입력 전달\n",
    "        loss = criterion(outputs, targets) # 모델 출력과 타깃으로 손실 계산 (정방향 계산, 순전파) -> 배치에있는 샘플에 대한 손실 평균 \n",
    "        loss.backward() # 손실 역전파\n",
    "        optimizer.step() # 모델 파라미터 업데이트\n",
    "        train_loss += loss.item() # 에포크 손실 기록\n",
    "    model.eval()\n",
    "    val_loss = 0\n",
    "    with torch.no_grad():\n",
    "        val_scaled = val_scaled.to(device)\n",
    "        val_target = val_target.to(device)\n",
    "        outputs = model(val_scaled)\n",
    "        loss = criterion(outputs, val_target)\n",
    "        val_loss = loss.item()\n",
    "    train_hist.append(train_loss/batches)\n",
    "    val_hist.append(val_loss)\n",
    "    print(f\"에포크:{epoch + 1},\",f\"훈련 손실:{train_loss/batches:.4f}, 검증 손실:{val_loss:.4f}\") # 에포크 손실 출력\n",
    "\n",
    "    # 조기 종료\n",
    "    if best_loss == -1 or val_loss < best_loss:\n",
    "        best_loss = val_loss\n",
    "        early_stopping_counter = 0\n",
    "        torch.save(model.state_dict(), 'best_model.pt')\n",
    "    else:\n",
    "        early_stopping_counter += 1\n",
    "    if early_stopping_counter >= patience:\n",
    "        print(f\"{epoch+1}번쨰 에포크에서 조기 종료되었습니다.\")\n",
    "        break\n"
   ]
  },
  {
   "cell_type": "code",
   "execution_count": 6,
   "id": "16c5dc85",
   "metadata": {},
   "outputs": [
    {
     "data": {
      "image/png": "[encoded data removed]",
      "text/plain": [
       "<Figure size 640x480 with 1 Axes>"
      ]
     },
     "metadata": {},
     "output_type": "display_data"
    }
   ],
   "source": [
    "# 훈련손실, 검증손실 그래프\n",
    "import matplotlib.pyplot as plt\n",
    "\n",
    "plt.plot(train_hist, label='train')\n",
    "plt.plot(val_hist, label='val')\n",
    "plt.xlabel('epoch')\n",
    "plt.ylabel('loss')\n",
    "plt.legend()\n",
    "plt.show()"
   ]
  },
  {
   "cell_type": "code",
   "execution_count": 7,
   "id": "585c5087",
   "metadata": {},
   "outputs": [
    {
     "name": "stdout",
     "output_type": "stream",
     "text": [
      "검증 정확도: 0.8772\n"
     ]
    }
   ],
   "source": [
    "# torch.load()로 torch.save()로 저장한 모델이나 텐서를 불러올 수 있음\n",
    "# load_state_dict()로 state_dict()로 저장한 데이터를 다시 모델에 복원할때 사용.\n",
    "\n",
    "# torch.load()함수로 best_model.pt 파일에 저장한 모델 파라미터를 읽은 다음 load_state_dict() 메서드에 전달하여 최상의 파라미터로 model객체에 업데이트\n",
    "model.load_state_dict(torch.load('best_model.pt', weights_only=True))\n",
    "\n",
    "# 검증세트 성능확인\n",
    "model.eval()\n",
    "with torch.no_grad():\n",
    "    val_scaled = val_scaled.to(device)\n",
    "    outputs = model(val_scaled)\n",
    "    predicts = torch.argmax(outputs, 1)\n",
    "    corrects = (predicts == val_target).sum().item()\n",
    "\n",
    "accuracy = corrects / len(val_target)\n",
    "print(f\"검증 정확도: {accuracy:.4f}\")\n"
   ]
  }
 ],
 "metadata": {
  "kernelspec": {
   "display_name": "myenv",
   "language": "python",
   "name": "python3"
  },
  "language_info": {
   "codemirror_mode": {
    "name": "ipython",
    "version": 3
   },
   "file_extension": ".py",
   "mimetype": "text/x-python",
   "name": "python",
   "nbconvert_exporter": "python",
   "pygments_lexer": "ipython3",
   "version": "3.10.12"
  }
 },
 "nbformat": 4,
 "nbformat_minor": 5
}
