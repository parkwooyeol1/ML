{
 "cells": [
  {
   "cell_type": "code",
   "execution_count": 1,
   "id": "29c541e5",
   "metadata": {},
   "outputs": [
    {
     "name": "stderr",
     "output_type": "stream",
     "text": [
      "2025-08-28 13:11:53.228130: I tensorflow/core/util/port.cc:111] oneDNN custom operations are on. You may see slightly different numerical results due to floating-point round-off errors from different computation orders. To turn them off, set the environment variable `TF_ENABLE_ONEDNN_OPTS=0`.\n",
      "2025-08-28 13:11:53.409673: E tensorflow/compiler/xla/stream_executor/cuda/cuda_dnn.cc:9342] Unable to register cuDNN factory: Attempting to register factory for plugin cuDNN when one has already been registered\n",
      "2025-08-28 13:11:53.409715: E tensorflow/compiler/xla/stream_executor/cuda/cuda_fft.cc:609] Unable to register cuFFT factory: Attempting to register factory for plugin cuFFT when one has already been registered\n",
      "2025-08-28 13:11:53.410398: E tensorflow/compiler/xla/stream_executor/cuda/cuda_blas.cc:1518] Unable to register cuBLAS factory: Attempting to register factory for plugin cuBLAS when one has already been registered\n",
      "2025-08-28 13:11:53.464372: I tensorflow/core/platform/cpu_feature_guard.cc:182] This TensorFlow binary is optimized to use available CPU instructions in performance-critical operations.\n",
      "To enable the following instructions: AVX2 AVX_VNNI FMA, in other operations, rebuild TensorFlow with the appropriate compiler flags.\n",
      "2025-08-28 13:11:54.565678: W tensorflow/compiler/tf2tensorrt/utils/py_utils.cc:38] TF-TRT Warning: Could not find TensorRT\n"
     ]
    }
   ],
   "source": [
    "# RNN으로 IMDB 리뷰 분류하기\n",
    "# 총 50000개 샘플 -> 정수로 바꾼 데이터 사용\n",
    "\n",
    "# 데이터 준비\n",
    "from keras.datasets import imdb\n",
    "\n",
    "(train_input, train_target), (test_input, test_target) = imdb.load_data(num_words=200)"
   ]
  },
  {
   "cell_type": "code",
   "execution_count": 2,
   "id": "4afb84ed",
   "metadata": {},
   "outputs": [
    {
     "name": "stdout",
     "output_type": "stream",
     "text": [
      "(25000,) (25000,)\n"
     ]
    }
   ],
   "source": [
    "# 훈련세트 테스트세트 크기확인\n",
    "print(train_input.shape, test_input.shape)"
   ]
  },
  {
   "cell_type": "code",
   "execution_count": 3,
   "id": "7e2f470a",
   "metadata": {},
   "outputs": [
    {
     "name": "stdout",
     "output_type": "stream",
     "text": [
      "218\n",
      "189\n"
     ]
    }
   ],
   "source": [
    "# 1차원 배열에 파이썬 리스트로 담아야 메모리를 효율적으로 사용가능\n",
    "\n",
    "# 첫 번째 리뷰의 길이 출력\n",
    "print(len(train_input[0])) # 218개 토큰\n",
    "# 두 번째 리뷰의 길이 출력\n",
    "print(len(train_input[1])) # 189개 토큰"
   ]
  },
  {
   "cell_type": "code",
   "execution_count": 4,
   "id": "a35ab86f",
   "metadata": {},
   "outputs": [
    {
     "name": "stdout",
     "output_type": "stream",
     "text": [
      "[1, 14, 22, 16, 43, 2, 2, 2, 2, 65, 2, 2, 66, 2, 4, 173, 36, 2, 5, 25, 100, 43, 2, 112, 50, 2, 2, 9, 35, 2, 2, 5, 150, 4, 172, 112, 167, 2, 2, 2, 39, 4, 172, 2, 2, 17, 2, 38, 13, 2, 4, 192, 50, 16, 6, 147, 2, 19, 14, 22, 4, 2, 2, 2, 4, 22, 71, 87, 12, 16, 43, 2, 38, 76, 15, 13, 2, 4, 22, 17, 2, 17, 12, 16, 2, 18, 2, 5, 62, 2, 12, 8, 2, 8, 106, 5, 4, 2, 2, 16, 2, 66, 2, 33, 4, 130, 12, 16, 38, 2, 5, 25, 124, 51, 36, 135, 48, 25, 2, 33, 6, 22, 12, 2, 28, 77, 52, 5, 14, 2, 16, 82, 2, 8, 4, 107, 117, 2, 15, 2, 4, 2, 7, 2, 5, 2, 36, 71, 43, 2, 2, 26, 2, 2, 46, 7, 4, 2, 2, 13, 104, 88, 4, 2, 15, 2, 98, 32, 2, 56, 26, 141, 6, 194, 2, 18, 4, 2, 22, 21, 134, 2, 26, 2, 5, 144, 30, 2, 18, 51, 36, 28, 2, 92, 25, 104, 4, 2, 65, 16, 38, 2, 88, 12, 16, 2, 5, 16, 2, 113, 103, 32, 15, 16, 2, 19, 178, 32]\n"
     ]
    }
   ],
   "source": [
    "# 첫 번째 리뷰내용 출력\n",
    "print(train_input[0])\n",
    "# 전체 어휘 사전에 있는 단어를 등장 횟수 순서대로 나열한 다음 가장 많이 등장한 200개의 단어 선택 -> 없는 단어는 2로 표시"
   ]
  },
  {
   "cell_type": "code",
   "execution_count": 5,
   "id": "065507c5",
   "metadata": {},
   "outputs": [
    {
     "name": "stdout",
     "output_type": "stream",
     "text": [
      "[1 0 0 1 0 0 1 0 1 0 1 0 0 0 0 0 1 1 0 1]\n"
     ]
    }
   ],
   "source": [
    "# 타깃 데이터 출력\n",
    "print(train_target[:20])"
   ]
  },
  {
   "cell_type": "code",
   "execution_count": 6,
   "id": "67f65655",
   "metadata": {},
   "outputs": [],
   "source": [
    "# 훈련세트에서 검증세트 분리\n",
    "from sklearn.model_selection import train_test_split\n",
    "\n",
    "train_input, val_input, train_target, val_target = train_test_split(train_input, train_target, test_size=0.2, random_state=42)"
   ]
  },
  {
   "cell_type": "code",
   "execution_count": 7,
   "id": "a102453f",
   "metadata": {},
   "outputs": [
    {
     "name": "stdout",
     "output_type": "stream",
     "text": [
      "239.00925 178.0\n"
     ]
    }
   ],
   "source": [
    "# 리뷰의 길이 확인을 위해 넘파이 배열에 담기\n",
    "import numpy as np\n",
    "\n",
    "lengths = np.array([len(x) for x in train_input])\n",
    "\n",
    "# 리뷰 길이의 평균값과 중간값\n",
    "print(np.mean(lengths), np.median(lengths))"
   ]
  },
  {
   "cell_type": "code",
   "execution_count": 8,
   "id": "78ee0719",
   "metadata": {},
   "outputs": [
    {
     "data": {
      "image/png": "[encoded data removed]",
      "text/plain": [
       "<Figure size 640x480 with 1 Axes>"
      ]
     },
     "metadata": {},
     "output_type": "display_data"
    }
   ],
   "source": [
    "# 리뷰 길이 데이터의 분포 확인\n",
    "import matplotlib.pyplot as plt\n",
    "\n",
    "plt.hist(lengths)\n",
    "plt.xlabel('length')\n",
    "plt.ylabel('frequency')\n",
    "plt.show()"
   ]
  },
  {
   "cell_type": "code",
   "execution_count": 9,
   "id": "0c610c8d",
   "metadata": {},
   "outputs": [
    {
     "name": "stdout",
     "output_type": "stream",
     "text": [
      "(20000, 100)\n"
     ]
    }
   ],
   "source": [
    "# 리뷰의 길이가 대부분 짧으므로 100개의 단어만 사용하도록 함\n",
    "# 100개의 단어보다 작은 리뷰는 패딩을 이용하여 토큰으로 0을 사용하도록 함\n",
    "from keras.preprocessing.sequence import pad_sequences\n",
    "\n",
    "train_seq = pad_sequences(train_input, maxlen=100) # 시퀀스 데이터의 길이를 맞추는 pad_sequences()함수사용\n",
    "\n",
    "# 패딩 결과 확인\n",
    "print(train_seq.shape) # (20000,100)크기의 2차원 배열"
   ]
  },
  {
   "cell_type": "code",
   "execution_count": 10,
   "id": "1f826e78",
   "metadata": {},
   "outputs": [
    {
     "name": "stdout",
     "output_type": "stream",
     "text": [
      "[ 10   4  20   9   2   2   2   5  45   6   2   2  33   2   8   2 142   2\n",
      "   5   2  17  73  17   2   5   2  19  55   2   2  92  66 104  14  20  93\n",
      "  76   2 151  33   4  58  12 188   2 151  12   2  69   2 142  73   2   6\n",
      "   2   7   2   2 188   2 103  14  31  10  10   2   7   2   5   2  80  91\n",
      "   2  30   2  34  14  20 151  50  26 131  49   2  84  46  50  37  80  79\n",
      "   6   2  46   7  14  20  10  10   2 158]\n"
     ]
    }
   ],
   "source": [
    "# train_seq의 첫 번째 샘플 출력\n",
    "print(train_seq[0]) "
   ]
  },
  {
   "cell_type": "code",
   "execution_count": 11,
   "id": "6142f89e",
   "metadata": {},
   "outputs": [
    {
     "name": "stdout",
     "output_type": "stream",
     "text": [
      "[6, 2, 46, 7, 14, 20, 10, 10, 2, 158]\n"
     ]
    }
   ],
   "source": [
    "# 패딩값이 없기 때문에 100보다 길었음을 확인\n",
    "# 패딩으로 앞이 잘렸는지, 뒤가 잘렸는지 원본데이터를 슬라이싱해서 확인\n",
    "print(train_input[0][-10:])"
   ]
  },
  {
   "cell_type": "code",
   "execution_count": 12,
   "id": "6b06e35d",
   "metadata": {},
   "outputs": [],
   "source": [
    "# 샘플의 앞부분이 잘렸음을 확인 할 수 있음\n",
    "# why? 일반적으로 시퀀스의 뒷부분의 정보가 더 유용할 것이라고 기대하기 떄문\n",
    "# 뒷 부분을 자르고 싶다면 -> pad_sequences()함수의 truncating 매개변수를 기본값 'pre'->'post'로 변경"
   ]
  },
  {
   "cell_type": "code",
   "execution_count": 13,
   "id": "79e12980",
   "metadata": {},
   "outputs": [
    {
     "name": "stdout",
     "output_type": "stream",
     "text": [
      "[  0   0   0   0   1   2 195  19  49   2   2 190   4   2   2   2 183  10\n",
      "  10  13  82  79   4   2  36  71   2   8   2  25  19  49   7   4   2   2\n",
      "   2   2   2  10  10  48  25  40   2  11   2   2  40   2   2   5   4   2\n",
      "   2  95  14   2  56 129   2  10  10  21   2  94   2   2   2   2  11 190\n",
      "  24   2   2   7  94   2   2  10  10  87   2  34  49   2   7   2   2   2\n",
      "   2   2   2   2  46  48  64  18   4   2]\n"
     ]
    }
   ],
   "source": [
    "# 여섯번째 샘플 출력\n",
    "print(train_seq[5])"
   ]
  },
  {
   "cell_type": "code",
   "execution_count": 14,
   "id": "4e5bffaa",
   "metadata": {},
   "outputs": [],
   "source": [
    "# 앞 부분에 0이 있기 때문에 샘플의 길이는 100이 안됨\n",
    "# 시퀀스의 마지막에 있는 단어가 셀의 은닉 상태에 가장 큰 영향을 미치게 되므로 앞에 패딩을 추가하는 것을 선호\n",
    "# 뒷 분에 추가하고 싶다면 -> ad_sequences()함수의 padding 매개변수를 기본값 'pre'->'post'로 변경"
   ]
  },
  {
   "cell_type": "code",
   "execution_count": 15,
   "id": "0c4a6c00",
   "metadata": {},
   "outputs": [],
   "source": [
    "# 검증 세트의 길이도 100으로 맞추기\n",
    "val_seq = pad_sequences(val_input, maxlen=100)"
   ]
  },
  {
   "cell_type": "code",
   "execution_count": 30,
   "id": "58b2bb86",
   "metadata": {},
   "outputs": [],
   "source": [
    "# RNN 구현\n",
    "import keras\n",
    "\n",
    "model = keras.Sequential()\n",
    "model.add(keras.layers.Input(shape=(100,200))) # (시퀀스 길이, 한 단어의 feature크기)\n",
    "model.add(keras.layers.SimpleRNN(8)) # 뉴런의 개수 지정, 활성화 함수 -> 기본값인 tanh 사용\n",
    "model.add(keras.layers.Dense(1, activation='sigmoid'))"
   ]
  },
  {
   "cell_type": "code",
   "execution_count": 31,
   "id": "ba637500",
   "metadata": {},
   "outputs": [
    {
     "name": "stdout",
     "output_type": "stream",
     "text": [
      "(20000, 100, 200)\n"
     ]
    }
   ],
   "source": [
    "# keras의 유틸리티를 사용하여 자동으로 원-핫 인코딩\n",
    "train_oh = keras.utils.to_categorical(train_seq)\n",
    "# 배열의 크기확인\n",
    "print(train_oh.shape)"
   ]
  },
  {
   "cell_type": "code",
   "execution_count": 18,
   "id": "7f8678cc",
   "metadata": {},
   "outputs": [
    {
     "name": "stdout",
     "output_type": "stream",
     "text": [
      "[0. 0. 0. 0. 0. 0. 0. 0. 0. 0. 1. 0. 0. 0. 0. 0. 0. 0. 0. 0. 0. 0. 0. 0.\n",
      " 0. 0. 0. 0. 0. 0. 0. 0. 0. 0. 0. 0. 0. 0. 0. 0. 0. 0. 0. 0. 0. 0. 0. 0.\n",
      " 0. 0. 0. 0. 0. 0. 0. 0. 0. 0. 0. 0. 0. 0. 0. 0. 0. 0. 0. 0. 0. 0. 0. 0.\n",
      " 0. 0. 0. 0. 0. 0. 0. 0. 0. 0. 0. 0. 0. 0. 0. 0. 0. 0. 0. 0. 0. 0. 0. 0.\n",
      " 0. 0. 0. 0. 0. 0. 0. 0. 0. 0. 0. 0. 0. 0. 0. 0. 0. 0. 0. 0. 0. 0. 0. 0.\n",
      " 0. 0. 0. 0. 0. 0. 0. 0. 0. 0. 0. 0. 0. 0. 0. 0. 0. 0. 0. 0. 0. 0. 0. 0.\n",
      " 0. 0. 0. 0. 0. 0. 0. 0. 0. 0. 0. 0. 0. 0. 0. 0. 0. 0. 0. 0. 0. 0. 0. 0.\n",
      " 0. 0. 0. 0. 0. 0. 0. 0. 0. 0. 0. 0. 0. 0. 0. 0. 0. 0. 0. 0. 0. 0. 0. 0.\n",
      " 0. 0. 0. 0. 0. 0. 0. 0.]\n"
     ]
    }
   ],
   "source": [
    "# train_oh의 첫 번쨰 샘플의 첫 번째 토큰 확인\n",
    "print(train_oh[0][0])"
   ]
  },
  {
   "cell_type": "code",
   "execution_count": 19,
   "id": "3b3b170d",
   "metadata": {},
   "outputs": [],
   "source": [
    "# val_seq(검증세트)도 원-핫인코딩으로 변환\n",
    "val_oh = keras.utils.to_categorical(val_seq)"
   ]
  },
  {
   "cell_type": "code",
   "execution_count": 20,
   "id": "dd2bcd43",
   "metadata": {},
   "outputs": [
    {
     "name": "stdout",
     "output_type": "stream",
     "text": [
      "Model: \"sequential\"\n",
      "_________________________________________________________________\n",
      " Layer (type)                Output Shape              Param #   \n",
      "=================================================================\n",
      " simple_rnn (SimpleRNN)      (None, 8)                 1672      \n",
      "                                                                 \n",
      " dense (Dense)               (None, 1)                 9         \n",
      "                                                                 \n",
      "=================================================================\n",
      "Total params: 1681 (6.57 KB)\n",
      "Trainable params: 1681 (6.57 KB)\n",
      "Non-trainable params: 0 (0.00 Byte)\n",
      "_________________________________________________________________\n"
     ]
    }
   ],
   "source": [
    "# 모델 구조확인\n",
    "model.summary()"
   ]
  },
  {
   "cell_type": "code",
   "execution_count": 22,
   "id": "3575c25c",
   "metadata": {},
   "outputs": [],
   "source": [
    "# 파라미터 개수\n",
    "# 입력토큰인 200차원의 원-핫 인코딩 배열이 8개의 뉴런과 연결됨 -> 200*8\n",
    "# 순환층의 hidden state는 다시 다음 타임스텝에 사용됨 -> 8*8  모든 뉴런이 서로 연결되는 fully connected 구조, 이전 히든스테이트와 현재 뉴런과 연결하려면 8*8 행렬이 돼야함\n",
    "# 뉴런마다 하나의 절편을 가짐 -> 8\n",
    "# 총 1600 + 64 + 8 = 1672개의 모델 파라미터 필요 \n",
    "# (D × H + H × H + H)"
   ]
  },
  {
   "cell_type": "code",
   "execution_count": 25,
   "id": "d6c1412b",
   "metadata": {},
   "outputs": [
    {
     "name": "stdout",
     "output_type": "stream",
     "text": [
      "Epoch 1/100\n",
      "313/313 [==============================] - 13s 37ms/step - loss: 0.6221 - accuracy: 0.6569 - val_loss: 0.5863 - val_accuracy: 0.6982\n",
      "Epoch 2/100\n",
      "  3/313 [..............................] - ETA: 10s - loss: 0.5960 - accuracy: 0.6927"
     ]
    },
    {
     "name": "stderr",
     "output_type": "stream",
     "text": [
      "/home/parkwooyeol/workspace/myenv/lib/python3.10/site-packages/keras/src/engine/training.py:3079: UserWarning: You are saving your model as an HDF5 file via `model.save()`. This file format is considered legacy. We recommend using instead the native Keras format, e.g. `model.save('my_model.keras')`.\n",
      "  saving_api.save_model(\n"
     ]
    },
    {
     "name": "stdout",
     "output_type": "stream",
     "text": [
      "313/313 [==============================] - 12s 37ms/step - loss: 0.5866 - accuracy: 0.6977 - val_loss: 0.5809 - val_accuracy: 0.7038\n",
      "Epoch 3/100\n",
      "313/313 [==============================] - 11s 34ms/step - loss: 0.5646 - accuracy: 0.7160 - val_loss: 0.5716 - val_accuracy: 0.7106\n",
      "Epoch 4/100\n",
      "313/313 [==============================] - 12s 37ms/step - loss: 0.5573 - accuracy: 0.7214 - val_loss: 0.5573 - val_accuracy: 0.7210\n",
      "Epoch 5/100\n",
      "313/313 [==============================] - 12s 40ms/step - loss: 0.5525 - accuracy: 0.7256 - val_loss: 0.5474 - val_accuracy: 0.7246\n",
      "Epoch 6/100\n",
      "313/313 [==============================] - 12s 38ms/step - loss: 0.5476 - accuracy: 0.7321 - val_loss: 0.5638 - val_accuracy: 0.7156\n",
      "Epoch 7/100\n",
      "313/313 [==============================] - 12s 38ms/step - loss: 0.5443 - accuracy: 0.7311 - val_loss: 0.5504 - val_accuracy: 0.7286\n",
      "Epoch 8/100\n",
      "313/313 [==============================] - 11s 35ms/step - loss: 0.5410 - accuracy: 0.7358 - val_loss: 0.5676 - val_accuracy: 0.7142\n"
     ]
    }
   ],
   "source": [
    "# RNN 훈련\n",
    "model.compile(optimizer='adam', loss='binary_crossentropy', metrics=['accuracy'])\n",
    "checkpoint_cb = keras.callbacks.ModelCheckpoint('best-simplernn-model.h5', save_best_only=True)\n",
    "early_stopping_cb = keras.callbacks.EarlyStopping(patience=3, restore_best_weights=True)\n",
    "history = model.fit(train_oh, train_target, epochs=100, batch_size=64, validation_data=(val_oh, val_target), callbacks=[checkpoint_cb, early_stopping_cb])"
   ]
  },
  {
   "cell_type": "code",
   "execution_count": null,
   "id": "1c7d8570",
   "metadata": {},
   "outputs": [
    {
     "data": {
      "image/png": "[encoded data removed]",
      "text/plain": [
       "<Figure size 640x480 with 1 Axes>"
      ]
     },
     "metadata": {},
     "output_type": "display_data"
    }
   ],
   "source": [
    "# 검증세트에 대한 정확도 약 71%\n",
    "\n",
    "# 훈련손실과 검증손실 그래프\n",
    "plt.plot(history.history['loss'], label='train')\n",
    "plt.plot(history.history['val_loss'], label='val')\n",
    "plt.xlabel('epoch')\n",
    "plt.ylabel('loss')\n",
    "plt.legend()\n",
    "plt.show()"
   ]
  },
  {
   "cell_type": "code",
   "execution_count": null,
   "id": "dd5c2b5c",
   "metadata": {},
   "outputs": [
    {
     "name": "stdout",
     "output_type": "stream",
     "text": [
      "8000000 1600000000\n"
     ]
    }
   ],
   "source": [
    "# 원-핫 인코딩으로 변환한 데이터의 크기 확인\n",
    "print(train_seq.nbytes, train_oh.nbytes) # 너무 큰 데이터"
   ]
  },
  {
   "cell_type": "code",
   "execution_count": 32,
   "id": "bacefba4",
   "metadata": {},
   "outputs": [],
   "source": [
    "# 단어 임베딩 사용\n",
    "# 단어 임베딩은 각 단어를 고정된 크기의 실수 벡터로 바꾸어 줌\n",
    "# 입력으로 정수 데이터를 받음 -> train_seq 사용가능 -> 메모리 절약"
   ]
  },
  {
   "cell_type": "code",
   "execution_count": 33,
   "id": "70a88c1a",
   "metadata": {},
   "outputs": [],
   "source": [
    "# 단어 임베딩을 위한 데이터셋 준비\n",
    "(train_input, train_target), (test_input, test_target) = imdb.load_data(num_words=500)\n",
    "train_input, val_input, train_target, val_target = train_test_split(train_input, train_target, test_size=0.2, random_state=42)\n",
    "train_seq = pad_sequences(train_input, maxlen=100)\n",
    "val_seq = pad_sequences(val_input, maxlen=100)"
   ]
  },
  {
   "cell_type": "code",
   "execution_count": 34,
   "id": "7a7fe6eb",
   "metadata": {},
   "outputs": [],
   "source": [
    "# Embedding 클래스를 simpleRNN 층 앞에 추가한 두 번째 RNN 구현\n",
    "model_emb = keras.Sequential()\n",
    "model_emb.add(keras.layers.Input(shape=(100,))) # train_seq 그대로 사용\n",
    "model_emb.add(keras.layers.Embedding(500,16)) # (어휘사전크기,임베딩벡터크기)\n",
    "model_emb.add(keras.layers.SimpleRNN(8))\n",
    "model_emb.add(keras.layers.Dense(1, activation='sigmoid'))"
   ]
  },
  {
   "cell_type": "code",
   "execution_count": 35,
   "id": "ef9af87f",
   "metadata": {},
   "outputs": [
    {
     "name": "stdout",
     "output_type": "stream",
     "text": [
      "Model: \"sequential_3\"\n",
      "_________________________________________________________________\n",
      " Layer (type)                Output Shape              Param #   \n",
      "=================================================================\n",
      " embedding (Embedding)       (None, 100, 16)           8000      \n",
      "                                                                 \n",
      " simple_rnn_3 (SimpleRNN)    (None, 8)                 200       \n",
      "                                                                 \n",
      " dense_2 (Dense)             (None, 1)                 9         \n",
      "                                                                 \n",
      "=================================================================\n",
      "Total params: 8209 (32.07 KB)\n",
      "Trainable params: 8209 (32.07 KB)\n",
      "Non-trainable params: 0 (0.00 Byte)\n",
      "_________________________________________________________________\n"
     ]
    }
   ],
   "source": [
    "# 모델 구조확인\n",
    "model_emb.summary()"
   ]
  },
  {
   "cell_type": "code",
   "execution_count": null,
   "id": "b3780b5c",
   "metadata": {},
   "outputs": [],
   "source": [
    "# 모델 파리미터 개수\n",
    "# embedding class -> 500(사전크기)*16(벡터크기) = 8000개 \n",
    "# simpleRNN class ->  16(벡터크기)*8(뉴런) + 8*8(hidden state) + 8(bias) = 200개 \n",
    "# Dense -> 9개"
   ]
  },
  {
   "cell_type": "code",
   "execution_count": null,
   "id": "ff16c51d",
   "metadata": {},
   "outputs": [],
   "source": [
    "# RNN 훈련\n",
    "model.compile(optimizer='adam', loss='binary_crossentropy', metrics=['accuracy'])\n",
    "checkpoint_cb = keras.callbacks.ModelCheckpoint('best-embedding-model.h5', save_best_only=True)\n",
    "early_stopping_cb = keras.callbacks.EarlyStopping(patience=3, restore_best_weights=True)\n",
    "history = model.fit(train_oh, train_target, epochs=100, batch_size=64, validation_data=(val_oh, val_target), callbacks=[checkpoint_cb, early_stopping_cb])"
   ]
  }
 ],
 "metadata": {
  "kernelspec": {
   "display_name": "myenv",
   "language": "python",
   "name": "python3"
  },
  "language_info": {
   "codemirror_mode": {
    "name": "ipython",
    "version": 3
   },
   "file_extension": ".py",
   "mimetype": "text/x-python",
   "name": "python",
   "nbconvert_exporter": "python",
   "pygments_lexer": "ipython3",
   "version": "3.10.12"
  }
 },
 "nbformat": 4,
 "nbformat_minor": 5
}
