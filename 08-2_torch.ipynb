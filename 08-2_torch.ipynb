{
 "cells": [
  {
   "cell_type": "code",
   "execution_count": 1,
   "id": "948f7786",
   "metadata": {},
   "outputs": [],
   "source": [
    "# pytorch로 합성곱 신경망 모델 훈련\n",
    "\n",
    "# 데이터 준비\n",
    "from torchvision.datasets import FashionMNIST\n",
    "\n",
    "fm_train = FashionMNIST(root='.', train=True, download=True)\n",
    "fm_test = FashionMNIST(root='.', train=False, download=True)\n",
    "\n",
    "train_input = fm_train.data\n",
    "train_target = fm_train.targets\n",
    "train_scaled = train_input.reshape(-1,1,28,28) / 255.0\n",
    "\n",
    "from sklearn.model_selection import train_test_split\n",
    "\n",
    "train_scaled, val_scaled, train_target, val_target = train_test_split(train_scaled, train_target, test_size=0.2, random_state=42)"
   ]
  },
  {
   "cell_type": "code",
   "execution_count": 6,
   "id": "639422ef",
   "metadata": {},
   "outputs": [],
   "source": [
    "# add_module() 매서드를 사용해 층을 하나씩 추가하는 방법(층이름, 층객체)\n",
    "\n",
    "# 합성곱층과 렐루활성화함수, 풀링층 추가\n",
    "import torch\n",
    "import torch.nn as nn\n",
    "\n",
    "model = nn.Sequential()\n",
    "model.add_module('conv1', nn.Conv2d(1,32,kernel_size=3,padding='same')) # (채널개수,필터개수,커널크기,패딩)\n",
    "model.add_module('relu', nn.ReLU())\n",
    "model.add_module('pool1', nn.MaxPool2d(2))\n",
    "\n",
    "# 두번째 합성곱층 추가 및 Flatten층 추가\n",
    "model.add_module('conv2', nn.Conv2d(32,64,kernel_size=3,padding='same'))\n",
    "model.add_module('relu', nn.ReLU())\n",
    "model.add_module('pool2', nn.MaxPool2d(2))\n",
    "model.add_module('flatten', nn.Flatten())"
   ]
  },
  {
   "cell_type": "code",
   "execution_count": 7,
   "id": "ff3b087c",
   "metadata": {},
   "outputs": [
    {
     "name": "stdout",
     "output_type": "stream",
     "text": [
      "torch.Size([1, 3136])\n"
     ]
    }
   ],
   "source": [
    "# Linear층을 사용할 때 입력 크기를 첫 번째 매개변수로 전달해야하므로, Flatten 층으로 펼친 입력의 크기를 알아야함\n",
    "# 가짜 입력을 만들어 어떤 크기의 출력이 만들어지는지 확인\n",
    "outputs = model(torch.ones(1,1,28,28))\n",
    "print(outputs.shape)"
   ]
  },
  {
   "cell_type": "code",
   "execution_count": 8,
   "id": "9a3d0c5e",
   "metadata": {},
   "outputs": [],
   "source": [
    "# 출력층\n",
    "model.add_module('dense1', nn.Linear(3136, 100))\n",
    "model.add_module('relu3', nn.ReLU())\n",
    "model.add_module('dropout', nn.Dropout(0.3))\n",
    "model.add_module('dense2', nn.Linear(100,10))"
   ]
  },
  {
   "cell_type": "code",
   "execution_count": 9,
   "id": "c182204f",
   "metadata": {},
   "outputs": [],
   "source": [
    "# GPU로 모델 전달 및 손실 함수와 옵티마이저 준비\n",
    "device = torch.device(\"cuda\" if torch.cuda.is_available() else \"cpu\")\n",
    "model.to(device)\n",
    "\n",
    "import torch.optim as optim\n",
    "\n",
    "criterion = nn.CrossEntropyLoss()\n",
    "optimizer = optim.Adam(model.parameters())"
   ]
  },
  {
   "cell_type": "code",
   "execution_count": 11,
   "id": "57c95546",
   "metadata": {},
   "outputs": [],
   "source": [
    "# TensorDataset 클래스를 사용하여 배치 생성(배치크기 및 shuffle 여부)\n",
    "from torch.utils.data import TensorDataset, DataLoader\n",
    "\n",
    "train_dataset = TensorDataset(train_scaled, train_target)\n",
    "val_dataset = TensorDataset(val_scaled, val_target)\n",
    "\n",
    "train_loader = DataLoader(train_dataset, batch_size=32, shuffle=True)\n",
    "val_loader = DataLoader(val_dataset, batch_size=32, shuffle=False)"
   ]
  },
  {
   "cell_type": "code",
   "execution_count": 12,
   "id": "d0b94858",
   "metadata": {},
   "outputs": [
    {
     "name": "stdout",
     "output_type": "stream",
     "text": [
      "에포크:1, 훈련 손실:0.4925, 검증 손실:0.3324\n",
      "에포크:2, 훈련 손실:0.3318, 검증 손실:0.2815\n",
      "에포크:3, 훈련 손실:0.2855, 검증 손실:0.2655\n",
      "에포크:4, 훈련 손실:0.2543, 검증 손실:0.2603\n",
      "에포크:5, 훈련 손실:0.2292, 검증 손실:0.2378\n",
      "에포크:6, 훈련 손실:0.2073, 검증 손실:0.2371\n",
      "에포크:7, 훈련 손실:0.1898, 검증 손실:0.2303\n",
      "에포크:8, 훈련 손실:0.1708, 검증 손실:0.2442\n",
      "에포크:9, 훈련 손실:0.1573, 검증 손실:0.2556\n",
      "9번쨰 에포크에서 조기 종료되었습니다.\n"
     ]
    }
   ],
   "source": [
    "# 모델 훈련코드 작성\n",
    "train_hist = []\n",
    "val_hist = []\n",
    "patience = 2\n",
    "best_loss = -1\n",
    "early_stopping_counter = 0\n",
    "\n",
    "epochs = 20\n",
    "for epoch in range(epochs):\n",
    "    model.train()\n",
    "    train_loss = 0\n",
    "    for inputs, targets in train_loader:\n",
    "        inputs, targets = inputs.to(device), targets.to(device)\n",
    "        optimizer.zero_grad()\n",
    "        outputs = model(inputs)\n",
    "        loss = criterion(outputs, targets)\n",
    "        loss.backward()\n",
    "        optimizer.step()\n",
    "        train_loss += loss.item()\n",
    "    # 검증 손실 계산\n",
    "    model.eval()\n",
    "    val_loss = 0\n",
    "    with torch.no_grad():\n",
    "        for inputs, targets in val_loader:\n",
    "            inputs, targets = inputs.to(device), targets.to(device)\n",
    "            outputs = model(inputs)\n",
    "            loss = criterion(outputs, targets)\n",
    "            val_loss += loss.item()\n",
    "    # 평균 훈련손실과 평균 검증 손실 계산 (데이터로더에 len()함수를 적용하면 배치 반복 횟수 반환)\n",
    "    train_loss = train_loss/len(train_loader)\n",
    "    val_loss = val_loss/len(val_loader)\n",
    "    train_hist.append(train_loss)\n",
    "    val_hist.append(val_loss)\n",
    "    print(f\"에포크:{epoch+1},\",f\"훈련 손실:{train_loss:.4f}, 검증 손실:{val_loss:.4f}\") # 에포크 손실 출력\n",
    "\n",
    "    # 조기 종료\n",
    "    if best_loss == -1 or val_loss < best_loss:\n",
    "        best_loss = val_loss\n",
    "        early_stopping_counter = 0\n",
    "        torch.save(model.state_dict(), 'best_model.pt')\n",
    "    else:\n",
    "        early_stopping_counter += 1\n",
    "    if early_stopping_counter >= patience:\n",
    "        print(f\"{epoch+1}번쨰 에포크에서 조기 종료되었습니다.\")\n",
    "        break"
   ]
  },
  {
   "cell_type": "code",
   "execution_count": 13,
   "id": "e8d8a3a7",
   "metadata": {},
   "outputs": [
    {
     "data": {
      "image/png": "[encoded data removed]",
      "text/plain": [
       "<Figure size 640x480 with 1 Axes>"
      ]
     },
     "metadata": {},
     "output_type": "display_data"
    }
   ],
   "source": [
    "# 훈련손실, 검증손실 그래프\n",
    "import matplotlib.pyplot as plt\n",
    "\n",
    "plt.plot(train_hist, label='train')\n",
    "plt.plot(val_hist, label='val')\n",
    "plt.xlabel('epoch')\n",
    "plt.ylabel('loss')\n",
    "plt.legend()\n",
    "plt.show()"
   ]
  },
  {
   "cell_type": "code",
   "execution_count": null,
   "id": "6943ff7f",
   "metadata": {},
   "outputs": [
    {
     "name": "stdout",
     "output_type": "stream",
     "text": [
      "검증정확도: 0.9177\n"
     ]
    }
   ],
   "source": [
    "# 'best_model.pt'을 다시 로드하여 검증세트에 대한 정확도 확인\n",
    "model.load_state_dict(torch.load('best_model.pt', weights_only=True))\n",
    "\n",
    "model.eval()\n",
    "corrects = 0\n",
    "with torch.no_grad():\n",
    "    for inputs, targets in val_loader:\n",
    "        inputs, targets = inputs.to(device), targets.to(device)\n",
    "        outputs = model(inputs)\n",
    "        predicts = torch.argmax(outputs, 1)\n",
    "        corrects += (predicts == targets).sum().item()\n",
    "\n",
    "accuracy = corrects / len(val_dataset)\n",
    "print(f\"검증정확도: {accuracy:.4f}\")"
   ]
  },
  {
   "cell_type": "code",
   "execution_count": 17,
   "id": "20996ad6",
   "metadata": {},
   "outputs": [],
   "source": [
    "# 훈련 세트에 대한 정확도 계산\n",
    "\n",
    "# 데이터 준비\n",
    "test_scaled = fm_test.data.reshape(-1,1,28,28) / 255.0\n",
    "test_target = fm_test.targets\n",
    "\n",
    "test_dataset = TensorDataset(test_scaled, test_target)\n",
    "test_loader = DataLoader(test_dataset, batch_size=32, shuffle=False)"
   ]
  },
  {
   "cell_type": "code",
   "execution_count": null,
   "id": "fbeee13b",
   "metadata": {},
   "outputs": [
    {
     "name": "stdout",
     "output_type": "stream",
     "text": [
      "검증정확도: 0.9132\n"
     ]
    }
   ],
   "source": [
    "# 정확도 계산\n",
    "model.eval()\n",
    "corrects = 0\n",
    "with torch.no_grad():\n",
    "    for inputs, targets in test_loader:\n",
    "        inputs, targets = inputs.to(device), targets.to(device)\n",
    "        outputs = model(inputs)\n",
    "        predicts = torch.argmax(outputs, 1)\n",
    "        corrects += (predicts == targets).sum().item()\n",
    "\n",
    "accuracy = corrects / len(test_dataset)\n",
    "print(f\"검증정확도: {accuracy:.4f}\")"
   ]
  }
 ],
 "metadata": {
  "kernelspec": {
   "display_name": "myenv",
   "language": "python",
   "name": "python3"
  },
  "language_info": {
   "codemirror_mode": {
    "name": "ipython",
    "version": 3
   },
   "file_extension": ".py",
   "mimetype": "text/x-python",
   "name": "python",
   "nbconvert_exporter": "python",
   "pygments_lexer": "ipython3",
   "version": "3.10.12"
  }
 },
 "nbformat": 4,
 "nbformat_minor": 5
}
