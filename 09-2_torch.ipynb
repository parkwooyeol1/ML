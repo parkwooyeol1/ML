{
 "cells": [
  {
   "cell_type": "code",
   "execution_count": 1,
   "id": "32744f25",
   "metadata": {},
   "outputs": [
    {
     "name": "stderr",
     "output_type": "stream",
     "text": [
      "2025-08-28 15:17:34.382291: I tensorflow/core/util/port.cc:111] oneDNN custom operations are on. You may see slightly different numerical results due to floating-point round-off errors from different computation orders. To turn them off, set the environment variable `TF_ENABLE_ONEDNN_OPTS=0`.\n",
      "2025-08-28 15:17:34.418673: E tensorflow/compiler/xla/stream_executor/cuda/cuda_dnn.cc:9342] Unable to register cuDNN factory: Attempting to register factory for plugin cuDNN when one has already been registered\n",
      "2025-08-28 15:17:34.418709: E tensorflow/compiler/xla/stream_executor/cuda/cuda_fft.cc:609] Unable to register cuFFT factory: Attempting to register factory for plugin cuFFT when one has already been registered\n",
      "2025-08-28 15:17:34.418744: E tensorflow/compiler/xla/stream_executor/cuda/cuda_blas.cc:1518] Unable to register cuBLAS factory: Attempting to register factory for plugin cuBLAS when one has already been registered\n",
      "2025-08-28 15:17:34.425531: I tensorflow/core/platform/cpu_feature_guard.cc:182] This TensorFlow binary is optimized to use available CPU instructions in performance-critical operations.\n",
      "To enable the following instructions: AVX2 AVX_VNNI FMA, in other operations, rebuild TensorFlow with the appropriate compiler flags.\n",
      "2025-08-28 15:17:35.302639: W tensorflow/compiler/tf2tensorrt/utils/py_utils.cc:38] TF-TRT Warning: Could not find TensorRT\n"
     ]
    }
   ],
   "source": [
    "# pytorch model 구현\n",
    "\n",
    "# IMDB데이터 준비\n",
    "from keras.datasets import imdb\n",
    "from sklearn.model_selection import train_test_split\n",
    "\n",
    "(train_input, train_target), (test_input, test_target) = imdb.load_data(num_words=500)\n",
    "train_input, val_input, train_target, val_target = train_test_split(train_input, train_target, test_size=0.2, random_state=42)\n",
    "\n",
    "from keras.preprocessing.sequence import pad_sequences\n",
    "\n",
    "train_seq = pad_sequences(train_input, maxlen=100) # 샘플 길이 100\n",
    "val_seq = pad_sequences(val_input, maxlen=100)"
   ]
  },
  {
   "cell_type": "code",
   "execution_count": 2,
   "id": "8f464100",
   "metadata": {},
   "outputs": [
    {
     "name": "stdout",
     "output_type": "stream",
     "text": [
      "(20000, 100) (20000,)\n"
     ]
    }
   ],
   "source": [
    "# train data 크기 확인\n",
    "print(train_seq.shape, train_target.shape)"
   ]
  },
  {
   "cell_type": "code",
   "execution_count": 3,
   "id": "0b69f381",
   "metadata": {},
   "outputs": [],
   "source": [
    "# pytorch 데이터 로더에 사용하려면 pytorch tensor로 변환 해야 함\n",
    "import torch\n",
    "\n",
    "train_seq = torch.tensor(train_seq)\n",
    "val_seq = torch.tensor(val_seq)"
   ]
  },
  {
   "cell_type": "code",
   "execution_count": 4,
   "id": "deaa3572",
   "metadata": {},
   "outputs": [
    {
     "name": "stdout",
     "output_type": "stream",
     "text": [
      "int64\n"
     ]
    }
   ],
   "source": [
    "# target data type 확인\n",
    "print(train_target.dtype)"
   ]
  },
  {
   "cell_type": "code",
   "execution_count": 5,
   "id": "28ca060b",
   "metadata": {},
   "outputs": [],
   "source": [
    "# pytorch 손실 함수는 입력으로 실수 값을 기대\n",
    "# 각 target 값을 실수형 텐서로 변환\n",
    "train_target = torch.tensor(train_target, dtype=torch.float32)\n",
    "val_target = torch.tensor(val_target, dtype=torch.float32)"
   ]
  },
  {
   "cell_type": "code",
   "execution_count": 6,
   "id": "11c136c8",
   "metadata": {},
   "outputs": [
    {
     "name": "stdout",
     "output_type": "stream",
     "text": [
      "torch.float32\n"
     ]
    }
   ],
   "source": [
    "# data type 확인\n",
    "print(train_target.dtype)"
   ]
  },
  {
   "cell_type": "code",
   "execution_count": 7,
   "id": "6ed052ce",
   "metadata": {},
   "outputs": [],
   "source": [
    "# 데이터 로더로 훈련세트 검증세트 준비\n",
    "from torch.utils.data import TensorDataset, DataLoader\n",
    "\n",
    "train_dataset = TensorDataset(train_seq, train_target)\n",
    "val_dataset = TensorDataset(val_seq, val_target)\n",
    "\n",
    "train_loader = DataLoader(train_dataset, batch_size=64, shuffle=True)\n",
    "val_loader =  DataLoader(val_dataset, batch_size=64, shuffle=False)"
   ]
  },
  {
   "cell_type": "code",
   "execution_count": 8,
   "id": "9972b76a",
   "metadata": {},
   "outputs": [],
   "source": [
    "# 모델 구현\n",
    "import torch.nn as nn\n",
    "\n",
    "class IMDBRnn(nn.Module):\n",
    "    def __init__(self):\n",
    "        super().__init__()\n",
    "        self.embedding = nn.Embedding(500,16) # 임베딩 층 (어휘사전크기,임베딩벡터크기), 입력(배치크기,시퀀스길이) -> 출력(배치크기,시퀀스길이,임베딩크기)\n",
    "        self.rnn = nn.RNN(16,8,batch_first=True) # 기본 순환층 (임베딩벡터크기,뉴런개수), 입력(시퀀스길이,배치크기,임베딩크기) -> batch_first가 True이므로 출력(배치크기,시퀀스길이,임베딩크기)\n",
    "        self.dense = nn.Linear(8,1)\n",
    "        self.sigmoid = nn.Sigmoid() # 이진분류이므로 활성화함수 sigmoid\n",
    "    def forward(self, x):\n",
    "        x = self.embedding(x)\n",
    "        _, hidden = self.rnn(x) # 여러개의 순환층을 쌓으려면 num_layers 매개변수에서 층개수 지정, 마지막 층에서 나온 각 타임스텝의 hidden state와 최종 hidden state 두 개를 반환\n",
    "        outputs = self.dense(hidden[-1])\n",
    "        return self.sigmoid(outputs)"
   ]
  },
  {
   "cell_type": "code",
   "execution_count": 9,
   "id": "9d5b0c79",
   "metadata": {},
   "outputs": [],
   "source": [
    "# 각 타임스텝의 hidden state는 batch_first가 True면 (배치크기,시퀀스길이,뉴련개수), False면 (시퀀스길이,배치크기,뉴런개수)\n",
    "# 최종 hidden state의 크기는 (층 개수,배치크기,뉴런개수)\n",
    "# 이 예제는 각 샘플의 길이 100, 1개 순환층, 64개 배치를 사용 -> 첫 번째 출력의 크기 (64,100,8), 두 번째 출력의 크기 (64,100,8)\n",
    "# 이 예제에서 각 타임스텝의 hidden state는 불필요하므로 각 객체가 반환하는 두 번째 값만 hidden변수에 저장해서 사용"
   ]
  },
  {
   "cell_type": "code",
   "execution_count": 10,
   "id": "f2fd93de",
   "metadata": {},
   "outputs": [
    {
     "name": "stderr",
     "output_type": "stream",
     "text": [
      "/home/parkwooyeol/workspace/myenv/lib/python3.10/site-packages/torch/cuda/__init__.py:129: UserWarning: CUDA initialization: CUDA unknown error - this may be due to an incorrectly set up environment, e.g. changing env variable CUDA_VISIBLE_DEVICES after program start. Setting the available devices to be zero. (Triggered internally at /pytorch/c10/cuda/CUDAFunctions.cpp:109.)\n",
      "  return torch._C._cuda_getDeviceCount() > 0\n"
     ]
    }
   ],
   "source": [
    "# 모델 객체 생성 및 GPU로 전달\n",
    "model = IMDBRnn()\n",
    "\n",
    "device = torch.device(\"cuda\" if torch.cuda.is_available() else \"cpu\")\n",
    "model.to(device)\n",
    "\n",
    "# 손실 함수와 옵티마이저 정의\n",
    "import torch.optim as optim\n",
    "\n",
    "criterion = nn.BCELoss() # 이진분류 -> 시그모이드 함수 -> nn.BCELoss() 사용\n",
    "optimizer = optim.Adam(model.parameters(), lr=2e-4) # 학습률을 기본값보다 낮춤"
   ]
  },
  {
   "cell_type": "code",
   "execution_count": 12,
   "id": "f2e3b42f",
   "metadata": {},
   "outputs": [],
   "source": [
    "# (64,100) 크기의 배치입력을 받아 마지막 시그모이드 함수를 통과한(64,1)  크기 값을 출력\n",
    "# but 타깃 값은 1차원 배열, 데이터로더가 반환한 크기 -> (64,)\n",
    "# 손실 함수에서 두 값을 사용하기위해 squeeze() 메서드로 크기가 1인 차원삭제 필요"
   ]
  },
  {
   "cell_type": "code",
   "execution_count": null,
   "id": "07c86d8a",
   "metadata": {},
   "outputs": [
    {
     "name": "stdout",
     "output_type": "stream",
     "text": [
      "에포크:1, 훈련 손실:0.7044, 검증 손실:0.6885\n",
      "에포크:2, 훈련 손실:0.6925, 검증 손실:0.6871\n",
      "에포크:3, 훈련 손실:0.6900, 검증 손실:0.6856\n",
      "에포크:4, 훈련 손실:0.6882, 검증 손실:0.6844\n",
      "에포크:5, 훈련 손실:0.6866, 검증 손실:0.6831\n",
      "에포크:6, 훈련 손실:0.6850, 검증 손실:0.6820\n",
      "에포크:7, 훈련 손실:0.6835, 검증 손실:0.6807\n",
      "에포크:8, 훈련 손실:0.6818, 검증 손실:0.6790\n",
      "에포크:9, 훈련 손실:0.6801, 검증 손실:0.6776\n",
      "에포크:10, 훈련 손실:0.6782, 검증 손실:0.6756\n",
      "에포크:11, 훈련 손실:0.6762, 검증 손실:0.6740\n",
      "에포크:12, 훈련 손실:0.6741, 검증 손실:0.6722\n",
      "에포크:13, 훈련 손실:0.6718, 검증 손실:0.6697\n",
      "에포크:14, 훈련 손실:0.6693, 검증 손실:0.6674\n",
      "에포크:15, 훈련 손실:0.6663, 검증 손실:0.6655\n",
      "에포크:16, 훈련 손실:0.6631, 검증 손실:0.6609\n",
      "에포크:17, 훈련 손실:0.6591, 검증 손실:0.6567\n",
      "에포크:18, 훈련 손실:0.6541, 검증 손실:0.6521\n",
      "에포크:19, 훈련 손실:0.6472, 검증 손실:0.6463\n",
      "에포크:20, 훈련 손실:0.6389, 검증 손실:0.6362\n",
      "에포크:21, 훈련 손실:0.6304, 검증 손실:0.6304\n",
      "에포크:22, 훈련 손실:0.6221, 검증 손실:0.6284\n",
      "에포크:23, 훈련 손실:0.6151, 검증 손실:0.6197\n",
      "에포크:24, 훈련 손실:0.6118, 검증 손실:0.6177\n",
      "에포크:25, 훈련 손실:0.6045, 검증 손실:0.6122\n",
      "에포크:26, 훈련 손실:0.6004, 검증 손실:0.6088\n",
      "에포크:27, 훈련 손실:0.5974, 검증 손실:0.6087\n",
      "에포크:28, 훈련 손실:0.5938, 검증 손실:0.6032\n",
      "에포크:29, 훈련 손실:0.5943, 검증 손실:0.6016\n",
      "에포크:30, 훈련 손실:0.5867, 검증 손실:0.5969\n",
      "에포크:31, 훈련 손실:0.5847, 검증 손실:0.5967\n",
      "에포크:32, 훈련 손실:0.5797, 검증 손실:0.5930\n",
      "에포크:33, 훈련 손실:0.5760, 검증 손실:0.5912\n",
      "에포크:34, 훈련 손실:0.5724, 검증 손실:0.5888\n",
      "에포크:35, 훈련 손실:0.5722, 검증 손실:0.5875\n",
      "에포크:36, 훈련 손실:0.5658, 검증 손실:0.5833\n",
      "에포크:37, 훈련 손실:0.5668, 검증 손실:0.5823\n",
      "에포크:38, 훈련 손실:0.5858, 검증 손실:0.5841\n",
      "에포크:39, 훈련 손실:0.5633, 검증 손실:0.5819\n",
      "에포크:40, 훈련 손실:0.5591, 검증 손실:0.5802\n",
      "에포크:41, 훈련 손실:0.5569, 검증 손실:0.5790\n",
      "에포크:42, 훈련 손실:0.5528, 검증 손실:0.5760\n",
      "에포크:43, 훈련 손실:0.5497, 검증 손실:0.5759\n",
      "에포크:44, 훈련 손실:0.5505, 검증 손실:0.5727\n",
      "에포크:45, 훈련 손실:0.5453, 검증 손실:0.5719\n",
      "에포크:46, 훈련 손실:0.5441, 검증 손실:0.5787\n",
      "에포크:47, 훈련 손실:0.5442, 검증 손실:0.5636\n",
      "에포크:48, 훈련 손실:0.5399, 검증 손실:0.5726\n",
      "에포크:49, 훈련 손실:0.5375, 검증 손실:0.5614\n",
      "에포크:50, 훈련 손실:0.5348, 검증 손실:0.5612\n",
      "에포크:51, 훈련 손실:0.5423, 검증 손실:0.5666\n",
      "에포크:52, 훈련 손실:0.5363, 검증 손실:0.5641\n",
      "52번쨰 에포크에서 조기 종료되었습니다.\n"
     ]
    }
   ],
   "source": [
    "# 모델 훈련 코드\n",
    "train_hist = []\n",
    "val_hist = []\n",
    "patience = 2\n",
    "best_loss = -1\n",
    "early_stopping_counter = 0\n",
    "\n",
    "epochs = 100\n",
    "for epoch in range(epochs):\n",
    "    model.train()\n",
    "    train_loss = 0\n",
    "    for inputs, targets in train_loader:\n",
    "        inputs, targets = inputs.to(device), targets.to(device)\n",
    "        optimizer.zero_grad()\n",
    "        outputs = model(inputs)\n",
    "        loss = criterion(outputs.squeeze(), targets) # squeeze()로 크기가 1인 차원 삭제\n",
    "        loss.backward()\n",
    "        optimizer.step()\n",
    "        train_loss += loss.item()\n",
    "\n",
    "    # 검증 손실 계산\n",
    "    model.eval()\n",
    "    val_loss = 0\n",
    "    with torch.no_grad():\n",
    "        for inputs, targets in val_loader:\n",
    "            inputs, targets = inputs.to(device), targets.to(device)\n",
    "            outputs = model(inputs)\n",
    "            loss = criterion(outputs.squeeze(), targets) # squeeze()로 크기가 1인 차원 삭제\n",
    "            val_loss += loss.item()\n",
    "\n",
    "    # 평균 훈련손실과 평균 검증 손실 계산 (데이터로더에 len()함수를 적용하면 배치 반복 횟수 반환)\n",
    "    train_loss = train_loss/len(train_loader)\n",
    "    val_loss = val_loss/len(val_loader)\n",
    "    train_hist.append(train_loss)\n",
    "    val_hist.append(val_loss)\n",
    "    print(f\"에포크:{epoch+1},\",f\"훈련 손실:{train_loss:.4f}, 검증 손실:{val_loss:.4f}\") # 에포크 손실 출력\n",
    "\n",
    "    # 조기 종료\n",
    "    if best_loss == -1 or val_loss < best_loss:\n",
    "        best_loss = val_loss\n",
    "        early_stopping_counter = 0\n",
    "        torch.save(model.state_dict(), 'best_model.pt')\n",
    "    else:\n",
    "        early_stopping_counter += 1\n",
    "    if early_stopping_counter >= patience:\n",
    "        print(f\"{epoch+1}번쨰 에포크에서 조기 종료되었습니다.\")\n",
    "        break"
   ]
  },
  {
   "cell_type": "code",
   "execution_count": 15,
   "id": "02369652",
   "metadata": {},
   "outputs": [
    {
     "data": {
      "image/png": "[encoded data removed]",
      "text/plain": [
       "<Figure size 640x480 with 1 Axes>"
      ]
     },
     "metadata": {},
     "output_type": "display_data"
    }
   ],
   "source": [
    "# 훈련손실 검증손실 그래프\n",
    "import matplotlib.pyplot as plt\n",
    "\n",
    "plt.plot(train_hist, label='train')\n",
    "plt.plot(val_hist, label='val')\n",
    "plt.xlabel('epoch')\n",
    "plt.ylabel('loss')\n",
    "plt.legend()\n",
    "plt.show()"
   ]
  },
  {
   "cell_type": "code",
   "execution_count": 16,
   "id": "f833487b",
   "metadata": {},
   "outputs": [
    {
     "name": "stdout",
     "output_type": "stream",
     "text": [
      "검증 정확도: 0.7182\n"
     ]
    }
   ],
   "source": [
    "# 검증 세트에 대한 모델 정확도 확인  \n",
    "# outputs와 0.5를 비교하여 모델 출력이 양성,음성 클래스인지 기록한 불리언텐서 사용 후 targets와 비교하여 올바른 예측 개수 카운트\n",
    "model.load_state_dict(torch.load('best_model.pt', weights_only=True))\n",
    "\n",
    "model.eval()\n",
    "corrects = 0\n",
    "with torch.no_grad():\n",
    "    for inputs, targets in val_loader:\n",
    "        inputs, targets = inputs.to(device), targets.to(device)\n",
    "        outputs = model(inputs)\n",
    "        predicts = outputs > 0.5\n",
    "        corrects += (predicts.squeeze() == targets).sum().item()\n",
    "\n",
    "accuracy = corrects / len(val_dataset)\n",
    "print(f\"검증 정확도: {accuracy:.4f}\")"
   ]
  }
 ],
 "metadata": {
  "kernelspec": {
   "display_name": "myenv",
   "language": "python",
   "name": "python3"
  },
  "language_info": {
   "codemirror_mode": {
    "name": "ipython",
    "version": 3
   },
   "file_extension": ".py",
   "mimetype": "text/x-python",
   "name": "python",
   "nbconvert_exporter": "python",
   "pygments_lexer": "ipython3",
   "version": "3.10.12"
  }
 },
 "nbformat": 4,
 "nbformat_minor": 5
}
