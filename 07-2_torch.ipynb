{
 "cells": [
  {
   "cell_type": "code",
   "execution_count": 2,
   "id": "b2c48331",
   "metadata": {},
   "outputs": [],
   "source": [
    "# 파이토치로 신경망 모델 구현\n",
    "\n",
    "# 데이터셋 불러오기\n",
    "from torchvision.datasets import FashionMNIST\n",
    "\n",
    "fm_train = FashionMNIST(root='.', train=True, download=True)\n",
    "fm_test = FashionMNIST(root='.', train=False, download=True)\n",
    "# root매개변수는 다운로드된 데이터를 저장할 위치를 지정\n",
    "# train매개변수를 True로하면 훈련 데이터를 다운, False인경우 테스트 데이터를 다운"
   ]
  },
  {
   "cell_type": "code",
   "execution_count": 3,
   "id": "d3fe08e0",
   "metadata": {},
   "outputs": [
    {
     "name": "stdout",
     "output_type": "stream",
     "text": [
      "torch.Size([60000, 28, 28]) torch.Size([10000, 28, 28])\n",
      "torch.Size([60000]) torch.Size([10000])\n"
     ]
    }
   ],
   "source": [
    "# Data의 속성확인\n",
    "type(fm_train.data) #텐서는 파이토치의 기본 데이터 구조\n",
    "\n",
    "# 데이터 크기확인\n",
    "print(fm_train.data.shape, fm_test.data.shape)\n",
    "\n",
    "# 타깃 크기확인\n",
    "print(fm_train.targets.shape, fm_test.targets.shape)"
   ]
  },
  {
   "cell_type": "code",
   "execution_count": 4,
   "id": "492a4165",
   "metadata": {},
   "outputs": [
    {
     "name": "stdout",
     "output_type": "stream",
     "text": [
      "torch.Size([48000, 28, 28]) torch.Size([12000, 28, 28])\n"
     ]
    }
   ],
   "source": [
    "# 입력과 타깃데이터 준비\n",
    "train_input = fm_train.data\n",
    "train_target = fm_train.targets\n",
    "\n",
    "train_scaled = train_input/255.0\n",
    "# 훈련세트와 검증세트로 나누기\n",
    "from sklearn.model_selection import train_test_split\n",
    "\n",
    "train_scaled, val_scaled, train_target, val_target = train_test_split(train_scaled, train_target, test_size=0.2, random_state=42)\n",
    "print(train_scaled.shape, val_scaled.shape)"
   ]
  },
  {
   "cell_type": "code",
   "execution_count": 5,
   "id": "9f07f8ee",
   "metadata": {},
   "outputs": [],
   "source": [
    "# 모델\n",
    "import torch.nn as nn\n",
    "\n",
    "model = nn.Sequential(\n",
    "    nn.Flatten(),\n",
    "    nn.Linear(784,100),  # 은닉층\n",
    "    nn.ReLU(),\n",
    "    nn.Linear(100,10)   # 출력층\n",
    ")"
   ]
  },
  {
   "cell_type": "code",
   "execution_count": 6,
   "id": "0c4973d3",
   "metadata": {},
   "outputs": [
    {
     "data": {
      "text/plain": [
       "==========================================================================================\n",
       "Layer (type:depth-idx)                   Output Shape              Param #\n",
       "==========================================================================================\n",
       "Sequential                               [32, 10]                  --\n",
       "├─Flatten: 1-1                           [32, 784]                 --\n",
       "├─Linear: 1-2                            [32, 100]                 78,500\n",
       "├─ReLU: 1-3                              [32, 100]                 --\n",
       "├─Linear: 1-4                            [32, 10]                  1,010\n",
       "==========================================================================================\n",
       "Total params: 79,510\n",
       "Trainable params: 79,510\n",
       "Non-trainable params: 0\n",
       "Total mult-adds (M): 2.54\n",
       "==========================================================================================\n",
       "Input size (MB): 0.10\n",
       "Forward/backward pass size (MB): 0.03\n",
       "Params size (MB): 0.32\n",
       "Estimated Total Size (MB): 0.45\n",
       "=========================================================================================="
      ]
     },
     "execution_count": 6,
     "metadata": {},
     "output_type": "execute_result"
    }
   ],
   "source": [
    "from torchinfo import summary\n",
    "\n",
    "summary(model, input_size=(32,28,28))"
   ]
  },
  {
   "cell_type": "code",
   "execution_count": 7,
   "id": "f7699e46",
   "metadata": {},
   "outputs": [
    {
     "data": {
      "text/plain": [
       "Sequential(\n",
       "  (0): Flatten(start_dim=1, end_dim=-1)\n",
       "  (1): Linear(in_features=784, out_features=100, bias=True)\n",
       "  (2): ReLU()\n",
       "  (3): Linear(in_features=100, out_features=10, bias=True)\n",
       ")"
      ]
     },
     "execution_count": 7,
     "metadata": {},
     "output_type": "execute_result"
    }
   ],
   "source": [
    "# GPU로 훈련시키기 위해 사용여부 설정\n",
    "import torch\n",
    "\n",
    "device = torch.device(\"cuda\" if torch.cuda.is_available() else \"cpu\")\n",
    "model.to(device)"
   ]
  },
  {
   "cell_type": "code",
   "execution_count": 9,
   "id": "91e51f19",
   "metadata": {},
   "outputs": [],
   "source": [
    "# 옵티마이저 클래스에 대한 객체 생성\n",
    "import torch.optim as optim\n",
    "\n",
    "criterion = nn.CrossEntropyLoss()\n",
    "optimizer = optim.Adam(model.parameters()) # parameters()메서드는 훈련 가능한 모든 모델 파라미터를 전달\n",
    "# 모델 마지막층에 활성화 함수를 추가하지 않은 이유 -> Crossentropy 클래스에 소프트맥스 함수가 이미 포함됨, 즉 파이토치 모델마지막에 소프트맥스 함수를 추가할 필요X"
   ]
  },
  {
   "cell_type": "code",
   "execution_count": 12,
   "id": "92b70445",
   "metadata": {},
   "outputs": [
    {
     "name": "stdout",
     "output_type": "stream",
     "text": [
      "에포크:1, 손실:0.2962\n",
      "에포크:2, 손실:0.2825\n",
      "에포크:3, 손실:0.2708\n",
      "에포크:4, 손실:0.2599\n",
      "에포크:5, 손실:0.2502\n"
     ]
    }
   ],
   "source": [
    "epochs = 5\n",
    "batches = int(len(train_scaled)/32)\n",
    "for epoch in range(epochs):\n",
    "    model.train() \n",
    "    train_loss = 0 # 에포크 손실 초기화\n",
    "    for i in range(batches):\n",
    "        inputs = train_scaled[i*32:(i+1)*32].to(device) # 배치입력과 타깃 준비\n",
    "        targets = train_target[i*32:(i+1)*32].to(device)\n",
    "        optimizer.zero_grad() # 옵티마이저 그레디언트 초기화\n",
    "        outputs = model(inputs) # 모델에 입력 전달\n",
    "        loss = criterion(outputs, targets) # 모델 출력과 타깃으로 손실 계산 (정방향 계산, 순전파) -> 배치에있는 샘플에 대한 손실 평균 \n",
    "        loss.backward() # 손실 역전파\n",
    "        optimizer.step() # 모델 파라미터 업데이트\n",
    "        train_loss += loss.item() # 에포크 손실 기록\n",
    "    print(f\"에포크:{epoch + 1}, 손실:{train_loss/batches:.4f}\") # 에포크 손실 출력"
   ]
  },
  {
   "cell_type": "code",
   "execution_count": null,
   "id": "a2dd82de",
   "metadata": {},
   "outputs": [
    {
     "name": "stdout",
     "output_type": "stream",
     "text": [
      "검증 정확도: 0.8843\n"
     ]
    }
   ],
   "source": [
    "# 검증세트를 사용해 모델 성능 평가\n",
    "model.eval() # 모델 평가를 알림\n",
    "with torch.no_grad(): # 그레디언트 계산을 하지 않는다고 알림\n",
    "    val_scaled = val_scaled.to(device)\n",
    "    val_target = val_target.to(device)\n",
    "    outputs = model(val_scaled) #(12000, 10)\n",
    "    predicts = torch.argmax(outputs, 1)\n",
    "    corrects = (predicts == val_target).sum().item()\n",
    "\n",
    "accuracy = corrects/len(val_target)\n",
    "print(f\"검증 정확도: {accuracy:.4f}\")"
   ]
  }
 ],
 "metadata": {
  "kernelspec": {
   "display_name": "myenv",
   "language": "python",
   "name": "python3"
  },
  "language_info": {
   "codemirror_mode": {
    "name": "ipython",
    "version": 3
   },
   "file_extension": ".py",
   "mimetype": "text/x-python",
   "name": "python",
   "nbconvert_exporter": "python",
   "pygments_lexer": "ipython3",
   "version": "3.10.12"
  }
 },
 "nbformat": 4,
 "nbformat_minor": 5
}
