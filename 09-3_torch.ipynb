{
 "cells": [
  {
   "cell_type": "code",
   "execution_count": 1,
   "id": "9968b6f6",
   "metadata": {},
   "outputs": [
    {
     "name": "stderr",
     "output_type": "stream",
     "text": [
      "2025-09-01 13:51:14.526782: I tensorflow/core/util/port.cc:111] oneDNN custom operations are on. You may see slightly different numerical results due to floating-point round-off errors from different computation orders. To turn them off, set the environment variable `TF_ENABLE_ONEDNN_OPTS=0`.\n",
      "2025-09-01 13:51:14.553889: E tensorflow/compiler/xla/stream_executor/cuda/cuda_dnn.cc:9342] Unable to register cuDNN factory: Attempting to register factory for plugin cuDNN when one has already been registered\n",
      "2025-09-01 13:51:14.553920: E tensorflow/compiler/xla/stream_executor/cuda/cuda_fft.cc:609] Unable to register cuFFT factory: Attempting to register factory for plugin cuFFT when one has already been registered\n",
      "2025-09-01 13:51:14.553941: E tensorflow/compiler/xla/stream_executor/cuda/cuda_blas.cc:1518] Unable to register cuBLAS factory: Attempting to register factory for plugin cuBLAS when one has already been registered\n",
      "2025-09-01 13:51:14.559383: I tensorflow/core/platform/cpu_feature_guard.cc:182] This TensorFlow binary is optimized to use available CPU instructions in performance-critical operations.\n",
      "To enable the following instructions: AVX2 AVX_VNNI FMA, in other operations, rebuild TensorFlow with the appropriate compiler flags.\n",
      "2025-09-01 13:51:15.174186: W tensorflow/compiler/tf2tensorrt/utils/py_utils.cc:38] TF-TRT Warning: Could not find TensorRT\n"
     ]
    }
   ],
   "source": [
    "# pytorch로 LSTM모델 구현\n",
    "\n",
    "# IMDB데이터 준비\n",
    "import torch\n",
    "from keras.datasets import imdb\n",
    "from sklearn.model_selection import train_test_split\n",
    "\n",
    "(train_input, train_target), (test_input, test_target) = imdb.load_data(num_words=500)\n",
    "train_input, val_input, train_target, val_target = train_test_split(train_input, train_target, test_size=0.2, random_state=42)\n",
    "\n",
    "from keras.preprocessing.sequence import pad_sequences\n",
    "\n",
    "train_seq = pad_sequences(train_input, maxlen=100) # 샘플 길이 100\n",
    "val_seq = pad_sequences(val_input, maxlen=100)\n",
    "\n",
    "train_seq = torch.tensor(train_seq)\n",
    "val_seq = torch.tensor(val_seq)\n",
    "train_target = torch.tensor(train_target, dtype=torch.float32)\n",
    "val_target = torch.tensor(val_target, dtype=torch.float32)\n",
    "\n",
    "# 데이터 로더로 훈련세트 검증세트 준비\n",
    "from torch.utils.data import TensorDataset, DataLoader\n",
    "\n",
    "train_dataset = TensorDataset(train_seq, train_target)\n",
    "val_dataset = TensorDataset(val_seq, val_target)\n",
    "\n",
    "train_loader = DataLoader(train_dataset, batch_size=64, shuffle=True)\n",
    "val_loader =  DataLoader(val_dataset, batch_size=64, shuffle=False)\n"
   ]
  },
  {
   "cell_type": "code",
   "execution_count": 2,
   "id": "7c8da80f",
   "metadata": {},
   "outputs": [],
   "source": [
    "# 모델 구현\n",
    "import torch.nn as nn\n",
    "\n",
    "class IMDBLstm(nn.Module):\n",
    "    def __init__(self):\n",
    "        super().__init__()\n",
    "        self.embedding = nn.Embedding(500,16) \n",
    "        self.lstm = nn.LSTM(16,8,batch_first=True, num_layers=2, dropout=0.2)\n",
    "        self.dense = nn.Linear(8, 1)\n",
    "        self.sigmoid = nn.Sigmoid()\n",
    "    def forward(self, x):\n",
    "        x = self.embedding(x)\n",
    "        _, (hidden, _) = self.lstm(x) # nn.LSTM 클래스는 순서대로 마지막층의 타임스텝별 은닉상태, 모든층의 마지막 은닉상태, 모든층의 마지막 셀상태 반환 \n",
    "        outputs = self.dense(hidden[-1])\n",
    "        return self.sigmoid(outputs)"
   ]
  },
  {
   "cell_type": "code",
   "execution_count": 3,
   "id": "226dab4c",
   "metadata": {},
   "outputs": [
    {
     "name": "stdout",
     "output_type": "stream",
     "text": [
      "에포크:1, 훈련 손실:0.6891, 검증 손실:0.6731\n",
      "에포크:2, 훈련 손실:0.6416, 검증 손실:0.6433\n",
      "에포크:3, 훈련 손실:0.5930, 검증 손실:0.5733\n",
      "에포크:4, 훈련 손실:0.5489, 검증 손실:0.5339\n",
      "에포크:5, 훈련 손실:0.5146, 검증 손실:0.5105\n",
      "에포크:6, 훈련 손실:0.4904, 검증 손실:0.4838\n",
      "에포크:7, 훈련 손실:0.4766, 검증 손실:0.4729\n",
      "에포크:8, 훈련 손실:0.4620, 검증 손실:0.4784\n",
      "에포크:9, 훈련 손실:0.4531, 검증 손실:0.4650\n",
      "에포크:10, 훈련 손실:0.4442, 검증 손실:0.4492\n",
      "에포크:11, 훈련 손실:0.4365, 검증 손실:0.4562\n",
      "에포크:12, 훈련 손실:0.4288, 검증 손실:0.4452\n",
      "에포크:13, 훈련 손실:0.4250, 검증 손실:0.4442\n",
      "에포크:14, 훈련 손실:0.4183, 검증 손실:0.4407\n",
      "에포크:15, 훈련 손실:0.4132, 검증 손실:0.4354\n",
      "에포크:16, 훈련 손실:0.4085, 검증 손실:0.4644\n",
      "에포크:17, 훈련 손실:0.4077, 검증 손실:0.4292\n",
      "에포크:18, 훈련 손실:0.4004, 검증 손실:0.4618\n",
      "에포크:19, 훈련 손실:0.3968, 검증 손실:0.4284\n",
      "에포크:20, 훈련 손실:0.3970, 검증 손실:0.4386\n",
      "에포크:21, 훈련 손실:0.3921, 검증 손실:0.4374\n",
      "21번쨰 에포크에서 조기 종료되었습니다.\n"
     ]
    }
   ],
   "source": [
    "# 모델 객체 생성 및 GPU로 전달\n",
    "model = IMDBLstm()\n",
    "\n",
    "device = torch.device(\"cuda\" if torch.cuda.is_available() else \"cpu\")\n",
    "model.to(device)\n",
    "\n",
    "# 손실 함수와 옵티마이저 정의\n",
    "import torch.optim as optim\n",
    "\n",
    "criterion = nn.BCELoss()\n",
    "optimizer = optim.Adam(model.parameters())\n",
    "\n",
    "# 모델 훈련 코드\n",
    "train_hist = []\n",
    "val_hist = []\n",
    "patience = 2\n",
    "best_loss = -1\n",
    "early_stopping_counter = 0\n",
    "\n",
    "epochs = 100\n",
    "for epoch in range(epochs):\n",
    "    model.train()\n",
    "    train_loss = 0\n",
    "    for inputs, targets in train_loader:\n",
    "        inputs, targets = inputs.to(device), targets.to(device)\n",
    "        optimizer.zero_grad()\n",
    "        outputs = model(inputs)\n",
    "        loss = criterion(outputs.squeeze(), targets) # squeeze()로 크기가 1인 차원 삭제\n",
    "        loss.backward()\n",
    "        optimizer.step()\n",
    "        train_loss += loss.item()\n",
    "\n",
    "    # 검증 손실 계산\n",
    "    model.eval()\n",
    "    val_loss = 0\n",
    "    with torch.no_grad():\n",
    "        for inputs, targets in val_loader:\n",
    "            inputs, targets = inputs.to(device), targets.to(device)\n",
    "            outputs = model(inputs)\n",
    "            loss = criterion(outputs.squeeze(), targets) # squeeze()로 크기가 1인 차원 삭제\n",
    "            val_loss += loss.item()\n",
    "\n",
    "    # 평균 훈련손실과 평균 검증 손실 계산 (데이터로더에 len()함수를 적용하면 배치 반복 횟수 반환)\n",
    "    train_loss = train_loss/len(train_loader)\n",
    "    val_loss = val_loss/len(val_loader)\n",
    "    train_hist.append(train_loss)\n",
    "    val_hist.append(val_loss)\n",
    "    print(f\"에포크:{epoch+1},\",f\"훈련 손실:{train_loss:.4f}, 검증 손실:{val_loss:.4f}\") # 에포크 손실 출력\n",
    "\n",
    "    # 조기 종료\n",
    "    if best_loss == -1 or val_loss < best_loss:\n",
    "        best_loss = val_loss\n",
    "        early_stopping_counter = 0\n",
    "        torch.save(model.state_dict(), 'best_2lstm_model.pt')\n",
    "    else:\n",
    "        early_stopping_counter += 1\n",
    "    if early_stopping_counter >= patience:\n",
    "        print(f\"{epoch+1}번쨰 에포크에서 조기 종료되었습니다.\")\n",
    "        break"
   ]
  },
  {
   "cell_type": "code",
   "execution_count": 4,
   "id": "c3e42b76",
   "metadata": {},
   "outputs": [
    {
     "data": {
      "image/png": "[encoded data removed]",
      "text/plain": [
       "<Figure size 640x480 with 1 Axes>"
      ]
     },
     "metadata": {},
     "output_type": "display_data"
    }
   ],
   "source": [
    "# 훈련손실 검증손실 그래프\n",
    "import matplotlib.pyplot as plt\n",
    "\n",
    "plt.plot(train_hist, label='train')\n",
    "plt.plot(val_hist, label='val')\n",
    "plt.xlabel('epoch')\n",
    "plt.ylabel('loss')\n",
    "plt.legend()\n",
    "plt.show()"
   ]
  },
  {
   "cell_type": "code",
   "execution_count": 8,
   "id": "76ab2aeb",
   "metadata": {},
   "outputs": [
    {
     "name": "stdout",
     "output_type": "stream",
     "text": [
      "검증 정확도: 0.8016\n"
     ]
    }
   ],
   "source": [
    "# 검증 세트에 대한 모델 정확도 확인  \n",
    "# outputs와 0.5를 비교하여 모델 출력이 양성,음성 클래스인지 기록한 불리언텐서 사용 후 targets와 비교하여 올바른 예측 개수 카운트\n",
    "model.load_state_dict(torch.load('best_2lstm_model.pt', weights_only=True))\n",
    "\n",
    "model.eval()\n",
    "corrects = 0\n",
    "with torch.no_grad():\n",
    "    for inputs, targets in val_loader:\n",
    "        inputs, targets = inputs.to(device), targets.to(device)\n",
    "        outputs = model(inputs)\n",
    "        predicts = outputs > 0.5\n",
    "        corrects += (predicts.squeeze() == targets).sum().item()\n",
    "\n",
    "accuracy = corrects / len(val_dataset)\n",
    "print(f\"검증 정확도: {accuracy:.4f}\")"
   ]
  },
  {
   "cell_type": "code",
   "execution_count": 10,
   "id": "98dfdac6",
   "metadata": {},
   "outputs": [
    {
     "name": "stderr",
     "output_type": "stream",
     "text": [
      "/tmp/ipykernel_17340/3585810466.py:5: UserWarning: To copy construct from a tensor, it is recommended to use sourceTensor.clone().detach() or sourceTensor.clone().detach().requires_grad_(True), rather than torch.tensor(sourceTensor).\n",
      "  test_target = torch.tensor(test_target, dtype=torch.float32)\n"
     ]
    },
    {
     "name": "stdout",
     "output_type": "stream",
     "text": [
      "검증 정확도: 0.8054\n"
     ]
    }
   ],
   "source": [
    "# 최종적으로 테스트세트에 대한 모델 성능 확인\n",
    "\n",
    "test_seq = pad_sequences(test_input, maxlen=100)\n",
    "test_seq = torch.tensor(test_seq)\n",
    "test_target = torch.tensor(test_target, dtype=torch.float32)\n",
    "\n",
    "test_dataset = TensorDataset(test_seq, test_target)\n",
    "test_loader = DataLoader(test_dataset, batch_size=64, shuffle=False)\n",
    "\n",
    "model.eval()\n",
    "corrects = 0\n",
    "with torch.no_grad():\n",
    "    for inputs, targets in test_loader:\n",
    "        inputs, targets = inputs.to(device), targets.to(device)\n",
    "        outputs = model(inputs)\n",
    "        predicts = outputs > 0.5\n",
    "        corrects += (predicts.squeeze() == targets).sum().item()\n",
    "\n",
    "accuracy = corrects / len(test_dataset)\n",
    "print(f\"검증 정확도: {accuracy:.4f}\")"
   ]
  }
 ],
 "metadata": {
  "kernelspec": {
   "display_name": "myenv",
   "language": "python",
   "name": "python3"
  },
  "language_info": {
   "codemirror_mode": {
    "name": "ipython",
    "version": 3
   },
   "file_extension": ".py",
   "mimetype": "text/x-python",
   "name": "python",
   "nbconvert_exporter": "python",
   "pygments_lexer": "ipython3",
   "version": "3.10.12"
  }
 },
 "nbformat": 4,
 "nbformat_minor": 5
}
